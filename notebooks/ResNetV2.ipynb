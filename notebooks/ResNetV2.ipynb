{
 "cells": [
  {
   "cell_type": "code",
   "execution_count": null,
   "metadata": {},
   "outputs": [],
   "source": [
    "from sgd_complexity.tensorflow.resnet import resnet20\n",
    "from sgd_complexity.models import paper_resnet_model\n",
    "from sgd_complexity.datasets import cifar10_first_dataset\n",
    "import tempfile\n",
    "from pathlib import Path"
   ]
  },
  {
   "cell_type": "code",
   "execution_count": null,
   "metadata": {},
   "outputs": [],
   "source": [
    "model = paper_resnet_model([3,3,3])\n",
    "dataset = cifar10_first_dataset()"
   ]
  },
  {
   "cell_type": "code",
   "execution_count": null,
   "metadata": {},
   "outputs": [],
   "source": [
    "model.summary()"
   ]
  },
  {
   "cell_type": "code",
   "execution_count": null,
   "metadata": {},
   "outputs": [],
   "source": [
    "## saving model vs weights\n",
    "with tempfile.TemporaryDirectory() as tempdir:\n",
    "    model_save_path = Path(tempdir) / 'model.keras'\n",
    "    weights_save_path = Path(tempdir) / 'model.weights.h5'\n",
    "    model.save(model_save_path)\n",
    "    model.save_weights(weights_save_path)\n",
    "\n",
    "    model_size = model_save_path.stat().st_size\n",
    "    weights_size = weights_save_path.stat().st_size\n",
    "\n",
    "    print(f\"Model size: {model_size} bytes\")\n",
    "    print(f\"Weights size: {weights_size} bytes\")\n",
    "\n",
    "    # convert sizes to MB\n",
    "    model_size = model_size / (1024 * 1024)\n",
    "    weights_size = weights_size / (1024 * 1024)\n",
    "    print(f\"Model size: {model_size} MB\")\n",
    "    print(f\"Weights size: {weights_size} MB\")\n"
   ]
  },
  {
   "cell_type": "code",
   "execution_count": null,
   "metadata": {},
   "outputs": [],
   "source": [
    "model.fit(dataset.X_train, dataset.y_train, epochs=10, batch_size=128, validation_data=(dataset.X_test, dataset.y_test))"
   ]
  },
  {
   "cell_type": "code",
   "execution_count": null,
   "metadata": {},
   "outputs": [],
   "source": [
    "## saving model vs weights\n",
    "with tempfile.TemporaryDirectory() as tempdir:\n",
    "    model_save_path = Path(tempdir) / 'model.h5'\n",
    "    weights_save_path = Path(tempdir) / 'model.weights.h5'\n",
    "    model.save(model_save_path,include_optimizer=False)\n",
    "    model.save_weights(weights_save_path)\n",
    "\n",
    "    model_size = model_save_path.stat().st_size\n",
    "    weights_size = weights_save_path.stat().st_size\n",
    "\n",
    "    print(f\"Model size: {model_size} bytes\")\n",
    "    print(f\"Weights size: {weights_size} bytes\")\n",
    "\n",
    "    # convert sizes to MB\n",
    "    model_size = model_size / (1024 * 1024)\n",
    "    weights_size = weights_size / (1024 * 1024)\n",
    "    print(f\"Model size: {model_size} MB\")\n",
    "    print(f\"Weights size: {weights_size} MB\")"
   ]
  },
  {
   "cell_type": "code",
   "execution_count": null,
   "metadata": {},
   "outputs": [],
   "source": []
  }
 ],
 "metadata": {
  "kernelspec": {
   "display_name": "Python 3",
   "language": "python",
   "name": "python3"
  },
  "language_info": {
   "codemirror_mode": {
    "name": "ipython",
    "version": 3
   },
   "file_extension": ".py",
   "mimetype": "text/x-python",
   "name": "python",
   "nbconvert_exporter": "python",
   "pygments_lexer": "ipython3",
   "version": "3.10.13"
  }
 },
 "nbformat": 4,
 "nbformat_minor": 2
}
